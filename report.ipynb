{
 "cells": [
  {
   "cell_type": "markdown",
   "metadata": {},
   "source": [
    "Background"
   ]
  },
  {
   "cell_type": "markdown",
   "metadata": {},
   "source": [
    "New York City, the most populous city in the United States, one of the greatest metropolises over the world, is a dream place for gourmet to seek delicious cuisine. Its food culture includes an array of international cuisines influenced by the city's immigrant history. Central and Eastern European immigrants, especially Jewish immigrants from those regions, brought bagels, cheesecake, hot dogs, knishes, and delicatessens (or delis) to the city. Italian immigrants brought New York-style pizza and Italian cuisine into the city, while Jewish immigrants and Irish immigrants brought pastrami and corned beef, respectively. Chinese and other Asian restaurants, sandwich joints, trattorias, diners, and coffeehouses are ubiquitous throughout the city. Some 4,000 mobile food vendors licensed by the city, many immigrant-owned, have made Middle Eastern foods such as falafel and kebabs examples of modern New York street food. The city is home to \"nearly one thousand of the finest and most diverse haute cuisine restaurants in the world,\" according to Michelin. As of 2019, there were 27,043 restaurants in the city, up from 24,865 in 2017[1].\n",
    "\n",
    "As the figures tell, New York City attracts many to start their business in the food industry. Before they take action, they need to find out where they would open it? What would they consider when selecting a location? By exploring the regional characteristics of these restaurants, I hope to figure out whether the neighborhood of restaurants is an essential factor for the success of a restaurant with sound analysis.\n",
    "\n",
    "As I mentioned above, there are hundreds of restaurants, and it is impractical to run an analysis for each type of restaurant. Based on the maximum total numbers among these restaurants, I choose Pizza Place for the following report. The study of other types of restaurants can be conducted with the same method."
   ]
  },
  {
   "cell_type": "markdown",
   "metadata": {},
   "source": [
    "Data"
   ]
  },
  {
   "cell_type": "markdown",
   "metadata": {},
   "source": [
    "Data used in the analysis are listed below:\n",
    "\n",
    "· Neighborhoods in New York City -- Wikipedia[2]. I cleaned the data and reduced it to boroughs of NYC so that I can use it to find geological locations for further venue analysis.\n",
    "\n",
    "· Using Geopy to get geological location by address name\n",
    "\n",
    "· Using Foursquare API to get the most common venues of given Borough of New York City.\n",
    "\n",
    "· Using Foursquare API to get the venues' record of given venues of New York City."
   ]
  },
  {
   "cell_type": "markdown",
   "metadata": {},
   "source": [
    "Methodology"
   ]
  },
  {
   "cell_type": "markdown",
   "metadata": {},
   "source": [
    "I used BeautifulSoup to scrape boroughs from Wikipedia and organize a table containing Community Board, Area, Pop.Census, Neighborhoods information of New York City.\n",
    "\n",
    "And I used Geopy to get the geological location of each community board. (Because Geopy cannot recognize the address like 'Bronx CB 1', I use the first address in the list of Neighborhood of each community board. If it is still not found, the second address will be used.)\n",
    "\n"
   ]
  },
  {
   "cell_type": "markdown",
   "metadata": {},
   "source": [
    "I utilized the Foursquare API to explore the boroughs and segment them. I designed the limit as 100 venues and the radius 500 meters for each borough from their given latitude and longitude information. Here is the header of the result, adding venue id, venue name, category, latitude, and longitude information from Foursquare API.\n",
    "It returns with 2555 records. I summarize venues by category. Among these 2555 records, Pizza Place counts 117 with the maximum total number. Therefore, I choose Pizza Place as an example of restaurants for further analysis.\n",
    "\n",
    "I utilized the Foursquare API again by pizza places ID to explore the detailed record of these pizza places. Select out Rating, Price, Likes, Photos, Tips into a data frame. And drop those places without a rating.\n",
    "\n"
   ]
  },
  {
   "cell_type": "markdown",
   "metadata": {},
   "source": [
    "conclusion"
   ]
  },
  {
   "cell_type": "markdown",
   "metadata": {},
   "source": [
    "I tried to find which area has the highest concentration of restaurant. I calculated the percentage and turn out it is the Brooklyn CB 18. Half of the venues are restaurants."
   ]
  },
  {
   "cell_type": "code",
   "execution_count": null,
   "metadata": {},
   "outputs": [],
   "source": []
  }
 ],
 "metadata": {
  "kernelspec": {
   "display_name": "Python 3",
   "language": "python",
   "name": "python3"
  },
  "language_info": {
   "codemirror_mode": {
    "name": "ipython",
    "version": 3
   },
   "file_extension": ".py",
   "mimetype": "text/x-python",
   "name": "python",
   "nbconvert_exporter": "python",
   "pygments_lexer": "ipython3",
   "version": "3.7.6"
  }
 },
 "nbformat": 4,
 "nbformat_minor": 4
}
