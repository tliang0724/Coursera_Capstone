{
 "cells": [
  {
   "cell_type": "markdown",
   "metadata": {},
   "source": [
    "Week1"
   ]
  },
  {
   "cell_type": "markdown",
   "metadata": {},
   "source": [
    "1. Background & Problem Description"
   ]
  },
  {
   "cell_type": "markdown",
   "metadata": {},
   "source": [
    "New York City is the most populous city in the United States. It is a perfect city for people to seek for delicious cuisines. Its food culture presents a broad array of international cuisines influenced by the city's immigrant history. Central and Eastern European immigrants, especially Jewish immigrants, brought bagels, cheesecake, hot dogs, knishes, and delicatessens (or delis) to the city. Italian immigrants brought New York-style pizza and Italian cuisine into the city. Addtionally, Jewish immigrants and Irish immigrants brought pastrami and corned beef, respectively. Besides, Chinese and other Asian restaurants, sandwich joints, trattorias, diners, and coffeehouses are ubiquitous throughout the city. Some 4,000 mobile food vendors licensed by the city, many immigrant-owned, have made Middle Eastern foods such as falafel and kebabs examples of modern New York street food. The city is home to \"nearly one thousand of the finest and most diverse haute cuisine restaurants in the world\".\n",
    "\n",
    "Thereby, New York City attracts numerous people to start their business in its food industry. Before they start, they need to find out where they would open it and what they would consider while selecting a location. By exploring the regional characteristics of these restaurants, I hope to figure out whether the neighborhood of restaurants is an essential factor for the success of a restaurant with firm analyses.\n",
    "\n",
    "As I mentioned above, there are hundreds of restaurants, and it is impractical to run an analysis for each type of restaurant. Based on the maximum total numbers among these restaurants, I choose Pizza Place for the following report. The study of other types of restaurants can be conducted with the same method."
   ]
  },
  {
   "cell_type": "markdown",
   "metadata": {},
   "source": [
    "2. Data Preparation"
   ]
  },
  {
   "cell_type": "markdown",
   "metadata": {},
   "source": [
    "Data used in the analysis are listed below:\n",
    "\n",
    "· Neighborhoods in New York City -- Wikipedia. I cleaned the data and reduced it to boroughs of NYC so that I can use it to find geological locations for further venue analysis.\n",
    "\n",
    "· Using Geopy to get geological location by address name\n",
    "\n",
    "· Using Foursquare API to get the most common venues of given Borough of New York City.\n",
    "\n",
    "· Using Foursquare API to get the venues' record of given venues of New York City."
   ]
  },
  {
   "cell_type": "code",
   "execution_count": null,
   "metadata": {},
   "outputs": [],
   "source": []
  }
 ],
 "metadata": {
  "kernelspec": {
   "display_name": "Python 3",
   "language": "python",
   "name": "python3"
  },
  "language_info": {
   "codemirror_mode": {
    "name": "ipython",
    "version": 3
   },
   "file_extension": ".py",
   "mimetype": "text/x-python",
   "name": "python",
   "nbconvert_exporter": "python",
   "pygments_lexer": "ipython3",
   "version": "3.7.6"
  }
 },
 "nbformat": 4,
 "nbformat_minor": 4
}
